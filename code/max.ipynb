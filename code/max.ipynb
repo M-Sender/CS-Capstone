{
 "cells": [
  {
   "cell_type": "markdown",
   "metadata": {},
   "source": [
    "[Click here for live site!](https://m-sender.github.io/notupyet)\n",
    "<center><h1>Music Trends During the Pandemic</h1></center>\n",
    "<center><b>Sam Broth and Max Sender</b></center>\n",
    "<center>-------------------------------------------------------</center>\n",
    "\n",
    "<center>1. Introduction</center>\n",
    "<center>2. Data: Extraction, Transform and Load</center>\n",
    "<center>3. Exploratory Data Analysis</center>\n",
    "<center>4. Visualization</center>\n",
    "<center>5. What it all means?</center>"
   ]
  },
  {
   "cell_type": "markdown",
   "metadata": {},
   "source": [
    "<center><h1>1. Introduction</h1></center>\n",
    "\n",
    "# Goals\n",
    "\n",
    "# Our Data\n",
    "\n",
    "# Questions and Hypothesis"
   ]
  },
  {
   "cell_type": "code",
   "execution_count": null,
   "metadata": {},
   "outputs": [],
   "source": [
    "\n",
    "import pandas as pd\n",
    "import numpy as np\n",
    "import matplotlib.pyplot as plt\n",
    "import seaborn as sns\n",
    "import scipy.stats as stats\n",
    "from scipy.interpolate import make_interp_spline\n",
    "from functools import partial\n",
    "import requests\n",
    "import json\n",
    "from lyricsgenius import Genius\n",
    "import os\n",
    "from dotenv import load_dotenv\n",
    "load_dotenv()\n",
    "import sqlite3\n",
    "import nltk"
   ]
  },
  {
   "cell_type": "markdown",
   "metadata": {},
   "source": [
    "<center><h1>2. Extraction, Transform and Load </h1></center>\n",
    "\n",
    "We can do like 2.a, 2.b, etc for tidying and organizing and merging and such with explanations."
   ]
  },
  {
   "cell_type": "code",
   "execution_count": null,
   "metadata": {},
   "outputs": [],
   "source": [
    "\n",
    "tracks_df = pd.read_csv(\"../datasets/tracks.csv\")\n",
    "artist_df = pd.read_csv(\"../datasets/artists.csv\")\n",
    "final_df = pd.read_csv(\"../datasets/Final database.csv\")\n",
    "full_df = pd.read_csv(\"../datasets/Database to calculate popularity.csv\")\n",
    "\n"
   ]
  },
  {
   "cell_type": "markdown",
   "metadata": {},
   "source": [
    "# Explain Data sets"
   ]
  },
  {
   "cell_type": "markdown",
   "metadata": {},
   "source": [
    "# Tidying up our data"
   ]
  },
  {
   "cell_type": "code",
   "execution_count": null,
   "metadata": {},
   "outputs": [],
   "source": [
    "#tracks_df.sort_values('popularity', ascending=False)[tracks_df['popularity']>50].head()\n",
    "tracks_df\n",
    "#find the most popular tracks\n",
    "tracks_df.sort_values('popularity', ascending=False).head(10)"
   ]
  },
  {
   "cell_type": "code",
   "execution_count": null,
   "metadata": {},
   "outputs": [],
   "source": [
    "mental_health_df = pd.read_csv(\"../datasets/mentalHealth_searchTrend.csv\")\n"
   ]
  },
  {
   "cell_type": "code",
   "execution_count": null,
   "metadata": {},
   "outputs": [],
   "source": [
    "mental_health_df"
   ]
  },
  {
   "cell_type": "code",
   "execution_count": null,
   "metadata": {},
   "outputs": [],
   "source": [
    "full_df['date'] = pd.to_datetime(full_df['date'],dayfirst=True)\n",
    "full_df\n"
   ]
  },
  {
   "cell_type": "code",
   "execution_count": null,
   "metadata": {},
   "outputs": [],
   "source": [
    "full_df.iloc[305933].uri\n",
    "full_df['id'] = [x.split('/')[-1] if type(x)==str else float('nan') for x in full_df.uri.values]"
   ]
  },
  {
   "cell_type": "code",
   "execution_count": null,
   "metadata": {},
   "outputs": [],
   "source": [
    "f = partial(pd.to_datetime,yearfirst=True)\n",
    "working_df = full_df[(full_df['date']>=f('01/01/2020')) & (full_df['date']<=f('06/30/2020'))].sort_values('date',ascending=False)"
   ]
  },
  {
   "cell_type": "code",
   "execution_count": null,
   "metadata": {},
   "outputs": [],
   "source": [
    "working_df"
   ]
  },
  {
   "cell_type": "code",
   "execution_count": null,
   "metadata": {},
   "outputs": [],
   "source": [
    "tracks_df[(tracks_df['name']=='Tongue Tied') & (tracks_df['artists']==\"['Grouplove']\")]"
   ]
  },
  {
   "cell_type": "code",
   "execution_count": null,
   "metadata": {},
   "outputs": [],
   "source": [
    "holder_df = working_df.merge(tracks_df,on='id',how='inner')\n",
    "holder_df.head()"
   ]
  },
  {
   "cell_type": "markdown",
   "metadata": {},
   "source": [
    "<center><h1>3. Exploratory Data Analysis</h1></center>\n"
   ]
  },
  {
   "cell_type": "markdown",
   "metadata": {},
   "source": [
    "We break down our data analysis into 3 parts:\n",
    "* (3.1) Analysis and Representation of Provided Metrics\n",
    "* (3.2) NLP sentiment analysis of the lyrics per genre\n",
    "* (3.3) Meshing the data together and pursuing further analysis"
   ]
  },
  {
   "cell_type": "markdown",
   "metadata": {},
   "source": [
    "<center><h3>3.1: Analysis and Representation of Provided Metrics</h3></center>"
   ]
  },
  {
   "cell_type": "code",
   "execution_count": null,
   "metadata": {},
   "outputs": [],
   "source": [
    "#Code for plotting graphs and metrics\n",
    "def createMetricComparison(metricName): #change to zscore // streams per week (look)\n",
    "    fig, ax = plt.subplots(1,2,figsize=(25,12), sharey=True, sharex=False)\n",
    "    title = metricName + ' Before and After Pandemic Starts'\n",
    "    fig.suptitle(title,fontsize=16)\n",
    "\n",
    "    \n",
    "\n",
    "    #holder_df[holder_df['country']== 'USA'].plot.scatter(x='date',y='danceability', c='liveness',ax=ax)\n",
    "    #group by dates, get scores for each in terms of danceability and apply weight, then sum, them plot\n",
    "    #convert zscore = \n",
    "    holder_df[metricName] = (holder_df[metricName] - holder_df[metricName].mean())/holder_df[metricName].std()\n",
    "    pre_pandemic = holder_df[(holder_df['date']<=f('03/10/2020'))] #  & (holder_df['date'].dt.day % 7 == 0)\n",
    "    pandemic = holder_df[(holder_df['date']>f('03/10/2020'))] # & (holder_df['date'].dt.day % 7 == 0)\n",
    "    pre_pandemic = pre_pandemic[pre_pandemic['country']=='USA']\n",
    "    pandemic = pandemic[pandemic['country']=='USA']\n",
    "  \n",
    "    \n",
    "    \n",
    "    pp_groupby = pre_pandemic.groupby('date')[metricName].mean() \n",
    "    dp_groupby = pandemic.groupby('date')[metricName].mean() \n",
    "    #get zscore\n",
    "    '''pp_groupby_z = (pp_groupby - pp_groupby.mean())/pp_groupby.std()\n",
    "    dp_groupby_z = (dp_groupby - dp_groupby.mean())/dp_groupby.std()'''\n",
    "    std_pre = pp_groupby.std()\n",
    "    pp_groupby.plot(ax=ax[0],title='Before Pandemic',ylabel=metricName, xlabel='Date')\n",
    "    dp_groupby.plot(ax=ax[1],title='After Pandemic Begins', xlabel='Date',ylabel=metricName)\n",
    "    #plt.axhline(y=pp_groupby.mean(), color='r', linestyle='-')\n",
    "    ax[0].hlines(y=pp_groupby.mean(), xmin=\"01-01-2020\", xmax=\"03-10-2020\", linewidth=2, color='r')\n",
    "    ax[0].hlines(y=pp_groupby.mean()+std_pre, xmin=\"01-01-2020\", xmax=\"03-10-2020\", linewidth=2, color='y',linestyle='--')\n",
    "    ax[0].hlines(y=pp_groupby.mean()-std_pre, xmin=\"01-01-2020\", xmax=\"03-10-2020\", linewidth=2, color='y',linestyle='--')\n",
    "    \n",
    "    #plt.axhline( y=dp_groupby.mean(), color='r', linestyle='-')\n",
    "    ax[1].hlines(y=pp_groupby.mean()+std_pre, xmin=\"03-11-2020\", xmax=\"06-30-2020\", linewidth=2, color='y',linestyle='--')\n",
    "    ax[1].hlines(y=pp_groupby.mean()-std_pre, xmin=\"03-11-2020\", xmax=\"06-30-2020\", linewidth=2, color='y',linestyle='--')\n",
    "    \n",
    "    ax[1].hlines(y=dp_groupby.mean(), xmin=\"03-11-2020\", xmax=\"06-30-2020\", linewidth=2, color='r')"
   ]
  },
  {
   "cell_type": "code",
   "execution_count": null,
   "metadata": {},
   "outputs": [],
   "source": [
    "createMetricComparison('danceability')"
   ]
  },
  {
   "cell_type": "code",
   "execution_count": null,
   "metadata": {},
   "outputs": [],
   "source": [
    "metric_list = ['danceability','energy','loudness','speechiness','acousticness','instrumentalness','liveness','valence','tempo','duration_ms','time_signature','key','mode']\n",
    "for metric in metric_list:\n",
    "    createMetricComparison(metric)"
   ]
  },
  {
   "cell_type": "code",
   "execution_count": null,
   "metadata": {},
   "outputs": [],
   "source": []
  },
  {
   "cell_type": "markdown",
   "metadata": {},
   "source": [
    "<center><h3>3.2: NLP sentiment analysis of the lyrics per genre</h3></center>"
   ]
  },
  {
   "cell_type": "markdown",
   "metadata": {},
   "source": [
    "Using genius API we obtained lyrics and stored in sqlite file for use, (see lyricgrabber)"
   ]
  },
  {
   "cell_type": "code",
   "execution_count": 26,
   "metadata": {},
   "outputs": [
    {
     "name": "stderr",
     "output_type": "stream",
     "text": [
      "[nltk_data] Downloading package stopwords to\n",
      "[nltk_data]     C:\\Users\\MSend\\AppData\\Roaming\\nltk_data...\n",
      "[nltk_data]   Package stopwords is already up-to-date!\n"
     ]
    },
    {
     "data": {
      "text/plain": [
       "True"
      ]
     },
     "execution_count": 26,
     "metadata": {},
     "output_type": "execute_result"
    }
   ],
   "source": [
    "conn = sqlite3.connect('../datasets/lyrics.db')\n",
    "\n",
    "lyric_df = pd.read_sql_query(\"SELECT * FROM lyrics\", conn)\n",
    "nltk.download('stopwords')"
   ]
  },
  {
   "cell_type": "code",
   "execution_count": 27,
   "metadata": {},
   "outputs": [
    {
     "data": {
      "text/html": [
       "<div>\n",
       "<style scoped>\n",
       "    .dataframe tbody tr th:only-of-type {\n",
       "        vertical-align: middle;\n",
       "    }\n",
       "\n",
       "    .dataframe tbody tr th {\n",
       "        vertical-align: top;\n",
       "    }\n",
       "\n",
       "    .dataframe thead th {\n",
       "        text-align: right;\n",
       "    }\n",
       "</style>\n",
       "<table border=\"1\" class=\"dataframe\">\n",
       "  <thead>\n",
       "    <tr style=\"text-align: right;\">\n",
       "      <th></th>\n",
       "      <th>title</th>\n",
       "      <th>artist</th>\n",
       "      <th>lyric</th>\n",
       "      <th>uri</th>\n",
       "    </tr>\n",
       "  </thead>\n",
       "  <tbody>\n",
       "    <tr>\n",
       "      <th>0</th>\n",
       "      <td>positions</td>\n",
       "      <td>[' Ariana Grande ']</td>\n",
       "      <td>​positions Lyrics\\nHeaven sent you to me\\nI'm ...</td>\n",
       "      <td>https://open.spotify.com/track/35mvY5S1H3J2QZy...</td>\n",
       "    </tr>\n",
       "    <tr>\n",
       "      <th>1</th>\n",
       "      <td>Lemonade</td>\n",
       "      <td>[' Internet Money ']</td>\n",
       "      <td>Lemonade Lyrics\\nXanny bars, suicide door, bra...</td>\n",
       "      <td>https://open.spotify.com/track/7hxHWCCAIIxFLCz...</td>\n",
       "    </tr>\n",
       "    <tr>\n",
       "      <th>2</th>\n",
       "      <td>34+35</td>\n",
       "      <td>[' Ariana Grande ']</td>\n",
       "      <td>34+35 Lyrics\\nHmm\\n\\nYou might think I'm crazy...</td>\n",
       "      <td>https://open.spotify.com/track/6Im9k8u9iIzKMrm...</td>\n",
       "    </tr>\n",
       "    <tr>\n",
       "      <th>3</th>\n",
       "      <td>Dakiti</td>\n",
       "      <td>[' Bad Bunny', ' Jhay Cortez ']</td>\n",
       "      <td>DÁKITI Lyrics\\n\\nBaby, ya yo me enteré, se not...</td>\n",
       "      <td>https://open.spotify.com/track/47EiUVwUp4C9fGc...</td>\n",
       "    </tr>\n",
       "    <tr>\n",
       "      <th>4</th>\n",
       "      <td>Mood</td>\n",
       "      <td>[' 24kGoldn ']</td>\n",
       "      <td>Mood Lyrics\\nOh-oh-oh\\nYeah, yeah, yeah, yeah ...</td>\n",
       "      <td>https://open.spotify.com/track/3tjFYV6RSFtuktY...</td>\n",
       "    </tr>\n",
       "  </tbody>\n",
       "</table>\n",
       "</div>"
      ],
      "text/plain": [
       "         title                           artist  \\\n",
       "0   positions               [' Ariana Grande ']   \n",
       "1   Lemonade               [' Internet Money ']   \n",
       "2       34+35               [' Ariana Grande ']   \n",
       "3      Dakiti   [' Bad Bunny', ' Jhay Cortez ']   \n",
       "4       Mood                     [' 24kGoldn ']   \n",
       "\n",
       "                                               lyric  \\\n",
       "0  ​positions Lyrics\\nHeaven sent you to me\\nI'm ...   \n",
       "1  Lemonade Lyrics\\nXanny bars, suicide door, bra...   \n",
       "2  34+35 Lyrics\\nHmm\\n\\nYou might think I'm crazy...   \n",
       "3  DÁKITI Lyrics\\n\\nBaby, ya yo me enteré, se not...   \n",
       "4  Mood Lyrics\\nOh-oh-oh\\nYeah, yeah, yeah, yeah ...   \n",
       "\n",
       "                                                 uri  \n",
       "0  https://open.spotify.com/track/35mvY5S1H3J2QZy...  \n",
       "1  https://open.spotify.com/track/7hxHWCCAIIxFLCz...  \n",
       "2  https://open.spotify.com/track/6Im9k8u9iIzKMrm...  \n",
       "3  https://open.spotify.com/track/47EiUVwUp4C9fGc...  \n",
       "4  https://open.spotify.com/track/3tjFYV6RSFtuktY...  "
      ]
     },
     "execution_count": 27,
     "metadata": {},
     "output_type": "execute_result"
    }
   ],
   "source": [
    "lyric_df.rename(columns={'song':'title'},inplace=True)\n",
    "lyric_df.head()"
   ]
  },
  {
   "cell_type": "code",
   "execution_count": 28,
   "metadata": {},
   "outputs": [],
   "source": [
    "pre_pandemic_lyr = working_df[(working_df['date']<=f('03/10/2020'))]# & (holder_df['date'].dt.day % 7 == 0)]\n",
    "pandemic_lyr = working_df[(working_df['date']>f('03/10/2020'))]# & (holder_df['date'].dt.day % 7 == 0)]\n",
    "full_lyr = pd.merge(pre_pandemic_lyr,pandemic_lyr,how='outer')\n",
    "#full_lyr = pd.merge(full_lyr,lyric_df,how='inner',on='uri')\n"
   ]
  },
  {
   "cell_type": "code",
   "execution_count": 24,
   "metadata": {},
   "outputs": [
    {
     "data": {
      "text/html": [
       "<div>\n",
       "<style scoped>\n",
       "    .dataframe tbody tr th:only-of-type {\n",
       "        vertical-align: middle;\n",
       "    }\n",
       "\n",
       "    .dataframe tbody tr th {\n",
       "        vertical-align: top;\n",
       "    }\n",
       "\n",
       "    .dataframe thead th {\n",
       "        text-align: right;\n",
       "    }\n",
       "</style>\n",
       "<table border=\"1\" class=\"dataframe\">\n",
       "  <thead>\n",
       "    <tr style=\"text-align: right;\">\n",
       "      <th></th>\n",
       "      <th>Unnamed: 0</th>\n",
       "      <th>country</th>\n",
       "      <th>date</th>\n",
       "      <th>position</th>\n",
       "      <th>uri</th>\n",
       "      <th>track</th>\n",
       "      <th>title</th>\n",
       "      <th>artist</th>\n",
       "      <th>id</th>\n",
       "      <th>lyric</th>\n",
       "    </tr>\n",
       "  </thead>\n",
       "  <tbody>\n",
       "    <tr>\n",
       "      <th>0</th>\n",
       "      <td>2850196.0</td>\n",
       "      <td>Chile</td>\n",
       "      <td>2020-03-10</td>\n",
       "      <td>197.0</td>\n",
       "      <td>https://open.spotify.com/track/5UyH584f99c7qEr...</td>\n",
       "      <td>Convéncete , Princesa Alba</td>\n",
       "      <td>Convéncete</td>\n",
       "      <td>Princesa Alba</td>\n",
       "      <td>5UyH584f99c7qErZifyaHy</td>\n",
       "      <td>NaN</td>\n",
       "    </tr>\n",
       "    <tr>\n",
       "      <th>1</th>\n",
       "      <td>2852795.0</td>\n",
       "      <td>Chile</td>\n",
       "      <td>2020-02-26</td>\n",
       "      <td>196.0</td>\n",
       "      <td>https://open.spotify.com/track/5UyH584f99c7qEr...</td>\n",
       "      <td>Convéncete , Princesa Alba</td>\n",
       "      <td>Convéncete</td>\n",
       "      <td>Princesa Alba</td>\n",
       "      <td>5UyH584f99c7qErZifyaHy</td>\n",
       "      <td>NaN</td>\n",
       "    </tr>\n",
       "    <tr>\n",
       "      <th>2</th>\n",
       "      <td>2853969.0</td>\n",
       "      <td>Chile</td>\n",
       "      <td>2020-02-20</td>\n",
       "      <td>170.0</td>\n",
       "      <td>https://open.spotify.com/track/5UyH584f99c7qEr...</td>\n",
       "      <td>Convéncete , Princesa Alba</td>\n",
       "      <td>Convéncete</td>\n",
       "      <td>Princesa Alba</td>\n",
       "      <td>5UyH584f99c7qErZifyaHy</td>\n",
       "      <td>NaN</td>\n",
       "    </tr>\n",
       "    <tr>\n",
       "      <th>3</th>\n",
       "      <td>2854171.0</td>\n",
       "      <td>Chile</td>\n",
       "      <td>2020-02-19</td>\n",
       "      <td>172.0</td>\n",
       "      <td>https://open.spotify.com/track/5UyH584f99c7qEr...</td>\n",
       "      <td>Convéncete , Princesa Alba</td>\n",
       "      <td>Convéncete</td>\n",
       "      <td>Princesa Alba</td>\n",
       "      <td>5UyH584f99c7qErZifyaHy</td>\n",
       "      <td>NaN</td>\n",
       "    </tr>\n",
       "    <tr>\n",
       "      <th>4</th>\n",
       "      <td>2854380.0</td>\n",
       "      <td>Chile</td>\n",
       "      <td>2020-02-18</td>\n",
       "      <td>181.0</td>\n",
       "      <td>https://open.spotify.com/track/5UyH584f99c7qEr...</td>\n",
       "      <td>Convéncete , Princesa Alba</td>\n",
       "      <td>Convéncete</td>\n",
       "      <td>Princesa Alba</td>\n",
       "      <td>5UyH584f99c7qErZifyaHy</td>\n",
       "      <td>NaN</td>\n",
       "    </tr>\n",
       "  </tbody>\n",
       "</table>\n",
       "</div>"
      ],
      "text/plain": [
       "   Unnamed: 0 country       date  position  \\\n",
       "0   2850196.0   Chile 2020-03-10     197.0   \n",
       "1   2852795.0   Chile 2020-02-26     196.0   \n",
       "2   2853969.0   Chile 2020-02-20     170.0   \n",
       "3   2854171.0   Chile 2020-02-19     172.0   \n",
       "4   2854380.0   Chile 2020-02-18     181.0   \n",
       "\n",
       "                                                 uri  \\\n",
       "0  https://open.spotify.com/track/5UyH584f99c7qEr...   \n",
       "1  https://open.spotify.com/track/5UyH584f99c7qEr...   \n",
       "2  https://open.spotify.com/track/5UyH584f99c7qEr...   \n",
       "3  https://open.spotify.com/track/5UyH584f99c7qEr...   \n",
       "4  https://open.spotify.com/track/5UyH584f99c7qEr...   \n",
       "\n",
       "                          track         title           artist  \\\n",
       "0   Convéncete , Princesa Alba    Convéncete    Princesa Alba    \n",
       "1   Convéncete , Princesa Alba    Convéncete    Princesa Alba    \n",
       "2   Convéncete , Princesa Alba    Convéncete    Princesa Alba    \n",
       "3   Convéncete , Princesa Alba    Convéncete    Princesa Alba    \n",
       "4   Convéncete , Princesa Alba    Convéncete    Princesa Alba    \n",
       "\n",
       "                       id lyric  \n",
       "0  5UyH584f99c7qErZifyaHy   NaN  \n",
       "1  5UyH584f99c7qErZifyaHy   NaN  \n",
       "2  5UyH584f99c7qErZifyaHy   NaN  \n",
       "3  5UyH584f99c7qErZifyaHy   NaN  \n",
       "4  5UyH584f99c7qErZifyaHy   NaN  "
      ]
     },
     "metadata": {},
     "output_type": "display_data"
    }
   ],
   "source": [
    "display(full_lyr.head())\n",
    "#display(lyric_df.head())"
   ]
  },
  {
   "cell_type": "code",
   "execution_count": 29,
   "metadata": {},
   "outputs": [
    {
     "data": {
      "text/html": [
       "<div>\n",
       "<style scoped>\n",
       "    .dataframe tbody tr th:only-of-type {\n",
       "        vertical-align: middle;\n",
       "    }\n",
       "\n",
       "    .dataframe tbody tr th {\n",
       "        vertical-align: top;\n",
       "    }\n",
       "\n",
       "    .dataframe thead th {\n",
       "        text-align: right;\n",
       "    }\n",
       "</style>\n",
       "<table border=\"1\" class=\"dataframe\">\n",
       "  <thead>\n",
       "    <tr style=\"text-align: right;\">\n",
       "      <th></th>\n",
       "      <th>title</th>\n",
       "      <th>artist</th>\n",
       "      <th>lyric</th>\n",
       "      <th>uri</th>\n",
       "      <th>words</th>\n",
       "    </tr>\n",
       "  </thead>\n",
       "  <tbody>\n",
       "    <tr>\n",
       "      <th>0</th>\n",
       "      <td>positions</td>\n",
       "      <td>[' Ariana Grande ']</td>\n",
       "      <td>​positions Lyrics\\nHeaven sent you to me\\nI'm ...</td>\n",
       "      <td>https://open.spotify.com/track/35mvY5S1H3J2QZy...</td>\n",
       "      <td>[(​positions, 1), (lyrics, 1), (heaven, 1), (s...</td>\n",
       "    </tr>\n",
       "    <tr>\n",
       "      <th>1</th>\n",
       "      <td>Lemonade</td>\n",
       "      <td>[' Internet Money ']</td>\n",
       "      <td>Lemonade Lyrics\\nXanny bars, suicide door, bra...</td>\n",
       "      <td>https://open.spotify.com/track/7hxHWCCAIIxFLCz...</td>\n",
       "      <td>[(lemonade, 1), (lyrics, 1), (xanny, 3), (bars...</td>\n",
       "    </tr>\n",
       "    <tr>\n",
       "      <th>2</th>\n",
       "      <td>34+35</td>\n",
       "      <td>[' Ariana Grande ']</td>\n",
       "      <td>34+35 Lyrics\\nHmm\\n\\nYou might think I'm crazy...</td>\n",
       "      <td>https://open.spotify.com/track/6Im9k8u9iIzKMrm...</td>\n",
       "      <td>[(34+35, 1), (lyrics, 1), (hmm, 1), (you, 34),...</td>\n",
       "    </tr>\n",
       "    <tr>\n",
       "      <th>3</th>\n",
       "      <td>Dakiti</td>\n",
       "      <td>[' Bad Bunny', ' Jhay Cortez ']</td>\n",
       "      <td>DÁKITI Lyrics\\n\\nBaby, ya yo me enteré, se not...</td>\n",
       "      <td>https://open.spotify.com/track/47EiUVwUp4C9fGc...</td>\n",
       "      <td>[(dákiti, 1), (lyrics, 1), (baby,, 3), (ya, 4)...</td>\n",
       "    </tr>\n",
       "    <tr>\n",
       "      <th>4</th>\n",
       "      <td>Mood</td>\n",
       "      <td>[' 24kGoldn ']</td>\n",
       "      <td>Mood Lyrics\\nOh-oh-oh\\nYeah, yeah, yeah, yeah ...</td>\n",
       "      <td>https://open.spotify.com/track/3tjFYV6RSFtuktY...</td>\n",
       "      <td>[(mood, 2), (lyrics, 1), (oh-oh-oh, 1), (yeah,...</td>\n",
       "    </tr>\n",
       "  </tbody>\n",
       "</table>\n",
       "</div>"
      ],
      "text/plain": [
       "         title                           artist  \\\n",
       "0   positions               [' Ariana Grande ']   \n",
       "1   Lemonade               [' Internet Money ']   \n",
       "2       34+35               [' Ariana Grande ']   \n",
       "3      Dakiti   [' Bad Bunny', ' Jhay Cortez ']   \n",
       "4       Mood                     [' 24kGoldn ']   \n",
       "\n",
       "                                               lyric  \\\n",
       "0  ​positions Lyrics\\nHeaven sent you to me\\nI'm ...   \n",
       "1  Lemonade Lyrics\\nXanny bars, suicide door, bra...   \n",
       "2  34+35 Lyrics\\nHmm\\n\\nYou might think I'm crazy...   \n",
       "3  DÁKITI Lyrics\\n\\nBaby, ya yo me enteré, se not...   \n",
       "4  Mood Lyrics\\nOh-oh-oh\\nYeah, yeah, yeah, yeah ...   \n",
       "\n",
       "                                                 uri  \\\n",
       "0  https://open.spotify.com/track/35mvY5S1H3J2QZy...   \n",
       "1  https://open.spotify.com/track/7hxHWCCAIIxFLCz...   \n",
       "2  https://open.spotify.com/track/6Im9k8u9iIzKMrm...   \n",
       "3  https://open.spotify.com/track/47EiUVwUp4C9fGc...   \n",
       "4  https://open.spotify.com/track/3tjFYV6RSFtuktY...   \n",
       "\n",
       "                                               words  \n",
       "0  [(​positions, 1), (lyrics, 1), (heaven, 1), (s...  \n",
       "1  [(lemonade, 1), (lyrics, 1), (xanny, 3), (bars...  \n",
       "2  [(34+35, 1), (lyrics, 1), (hmm, 1), (you, 34),...  \n",
       "3  [(dákiti, 1), (lyrics, 1), (baby,, 3), (ya, 4)...  \n",
       "4  [(mood, 2), (lyrics, 1), (oh-oh-oh, 1), (yeah,...  "
      ]
     },
     "execution_count": 29,
     "metadata": {},
     "output_type": "execute_result"
    }
   ],
   "source": [
    "#Using the lyric_df, we can generate a list of words and their frequencies for each song.\n",
    "#We should make new df with song and then list as well as each weeks collective for analysis\n",
    "lyric_df['words'] = None\n",
    "word_stops = nltk.corpus.stopwords.words('english')\n",
    "\n",
    "for index, row in lyric_df.iterrows():\n",
    "        song_word_hold = {}\n",
    "        words = row['lyric'].split()\n",
    "        for word in words:\n",
    "            if word.lower() in song_word_hold:\n",
    "                song_word_hold[word.lower()] += 1\n",
    "            else:\n",
    "                song_word_hold[word.lower()] = 1\n",
    "        lyric_df.loc[index]['words'] = list(song_word_hold.items())\n",
    "lyric_df.head()\n",
    "#for each song, get the lyrics, split into words, and count the frequency of each word.\n",
    "#each song from the top 100 will be analyzed per week\n"
   ]
  },
  {
   "cell_type": "code",
   "execution_count": null,
   "metadata": {},
   "outputs": [],
   "source": [
    "#Code for per week/day analysis\n",
    "full_lyr.groupby('date').lyric.apply(' '.join).reset_index()\n",
    "#for each song, get the lyrics, split into words, and count the frequency of each word.\n",
    "#each song from the top 100 will be analyzed per week\n"
   ]
  },
  {
   "cell_type": "code",
   "execution_count": null,
   "metadata": {},
   "outputs": [],
   "source": [
    "#Now we can create a function to create a list of words and their frequencies for each date.\n",
    "full_lyr['words'] = None\n",
    "for index, row in full_lyr.iterrows():\n",
    "        song_word_hold = {}\n",
    "        words = row['lyric'].split()\n",
    "        for word in words:\n",
    "            if word.lower() in song_word_hold:\n",
    "                song_word_hold[word.lower()] += 1\n",
    "            else:\n",
    "                song_word_hold[word.lower()] = 1\n",
    "        full_lyr.loc[index]['words'] = list(song_word_hold.items())"
   ]
  },
  {
   "cell_type": "markdown",
   "metadata": {},
   "source": [
    "<center><h3>3.3: Meshing the data together and pursuing further analysis</h3></center>"
   ]
  },
  {
   "cell_type": "markdown",
   "metadata": {},
   "source": [
    "<center><h1>4. Visualization</h1></center>"
   ]
  },
  {
   "cell_type": "code",
   "execution_count": null,
   "metadata": {},
   "outputs": [],
   "source": []
  },
  {
   "cell_type": "code",
   "execution_count": null,
   "metadata": {},
   "outputs": [],
   "source": []
  },
  {
   "cell_type": "code",
   "execution_count": null,
   "metadata": {},
   "outputs": [],
   "source": []
  },
  {
   "cell_type": "markdown",
   "metadata": {},
   "source": [
    "<center><h1>5. What it all means?</h1></center>"
   ]
  },
  {
   "cell_type": "markdown",
   "metadata": {},
   "source": [
    "Conclusion"
   ]
  },
  {
   "cell_type": "markdown",
   "metadata": {},
   "source": []
  }
 ],
 "metadata": {
  "interpreter": {
   "hash": "d6d5ebbc22686cbf87e792bf78f7dd83e8c50b321b9443f473afd7acb3f9cb7d"
  },
  "kernelspec": {
   "display_name": "Python 3.9.7 ('Capstone')",
   "language": "python",
   "name": "python3"
  },
  "language_info": {
   "codemirror_mode": {
    "name": "ipython",
    "version": 3
   },
   "file_extension": ".py",
   "mimetype": "text/x-python",
   "name": "python",
   "nbconvert_exporter": "python",
   "pygments_lexer": "ipython3",
   "version": "3.9.7"
  },
  "orig_nbformat": 4
 },
 "nbformat": 4,
 "nbformat_minor": 2
}
