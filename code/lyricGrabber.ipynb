{
 "cells": [
  {
   "cell_type": "markdown",
   "metadata": {},
   "source": [
    "# Code for Pulling Lyrics from Genius"
   ]
  },
  {
   "cell_type": "code",
   "execution_count": 1,
   "metadata": {},
   "outputs": [],
   "source": [
    "from lyricsgenius import Genius\n",
    "import os\n",
    "from dotenv import load_dotenv\n",
    "load_dotenv()\n",
    "import pandas as pd\n",
    "import sqlite3\n",
    "conn = sqlite3.connect('../datasets/lyrics.db')\n",
    "from requests.exceptions import Timeout"
   ]
  },
  {
   "cell_type": "code",
   "execution_count": 2,
   "metadata": {},
   "outputs": [],
   "source": [
    "genius = Genius(os.getenv('GENIUS_KEY'))\n",
    "genius.timeout = 15\n",
    "genius.remove_section_headers = True"
   ]
  },
  {
   "cell_type": "code",
   "execution_count": 3,
   "metadata": {},
   "outputs": [],
   "source": [
    "full_df = pd.read_csv(\"../datasets/Database to calculate popularity.csv\")\n"
   ]
  },
  {
   "cell_type": "code",
   "execution_count": 9,
   "metadata": {},
   "outputs": [],
   "source": [
    "lyric_df = pd.read_sql_query(\"SELECT * FROM lyrics\", conn)\n"
   ]
  },
  {
   "cell_type": "code",
   "execution_count": 10,
   "metadata": {},
   "outputs": [
    {
     "name": "stdout",
     "output_type": "stream",
     "text": [
      "43\n",
      "43\n"
     ]
    },
    {
     "data": {
      "text/html": [
       "<div>\n",
       "<style scoped>\n",
       "    .dataframe tbody tr th:only-of-type {\n",
       "        vertical-align: middle;\n",
       "    }\n",
       "\n",
       "    .dataframe tbody tr th {\n",
       "        vertical-align: top;\n",
       "    }\n",
       "\n",
       "    .dataframe thead th {\n",
       "        text-align: right;\n",
       "    }\n",
       "</style>\n",
       "<table border=\"1\" class=\"dataframe\">\n",
       "  <thead>\n",
       "    <tr style=\"text-align: right;\">\n",
       "      <th></th>\n",
       "      <th>Unnamed: 0</th>\n",
       "      <th>country</th>\n",
       "      <th>date</th>\n",
       "      <th>position</th>\n",
       "      <th>uri</th>\n",
       "      <th>track</th>\n",
       "      <th>title</th>\n",
       "      <th>artist</th>\n",
       "    </tr>\n",
       "  </thead>\n",
       "  <tbody>\n",
       "    <tr>\n",
       "      <th>281193</th>\n",
       "      <td>281193</td>\n",
       "      <td>USA</td>\n",
       "      <td>01/11/2020</td>\n",
       "      <td>194.0</td>\n",
       "      <td>https://open.spotify.com/track/1TfqLAPs4K3s2rJ...</td>\n",
       "      <td>Sweet Dreams  - Remastered , Eurythmics, Anni...</td>\n",
       "      <td>Sweet Dreams  - Remastered</td>\n",
       "      <td>Eurythmics, Annie Lennox, Dave Stewart</td>\n",
       "    </tr>\n",
       "    <tr>\n",
       "      <th>281302</th>\n",
       "      <td>281302</td>\n",
       "      <td>USA</td>\n",
       "      <td>31/10/2020</td>\n",
       "      <td>103.0</td>\n",
       "      <td>https://open.spotify.com/track/0kwuKfWntoGh0EW...</td>\n",
       "      <td>Stranger Things , Kyle Dixon &amp; Michael Stein</td>\n",
       "      <td>Stranger Things</td>\n",
       "      <td>Kyle Dixon &amp; Michael Stein</td>\n",
       "    </tr>\n",
       "    <tr>\n",
       "      <th>285389</th>\n",
       "      <td>285389</td>\n",
       "      <td>USA</td>\n",
       "      <td>11/10/2020</td>\n",
       "      <td>190.0</td>\n",
       "      <td>https://open.spotify.com/track/31iqpzg1ZXLLgq0...</td>\n",
       "      <td>Throat Ba,  , BRS Kash</td>\n",
       "      <td>Throat Ba</td>\n",
       "      <td>, BRS Kash</td>\n",
       "    </tr>\n",
       "    <tr>\n",
       "      <th>288794</th>\n",
       "      <td>288794</td>\n",
       "      <td>USA</td>\n",
       "      <td>24/09/2020</td>\n",
       "      <td>195.0</td>\n",
       "      <td>https://open.spotify.com/track/5FmvaZGd6fulojS...</td>\n",
       "      <td>One Beer  , HIXTAPE</td>\n",
       "      <td>One Beer</td>\n",
       "      <td>HIXTAPE</td>\n",
       "    </tr>\n",
       "    <tr>\n",
       "      <th>289328</th>\n",
       "      <td>289328</td>\n",
       "      <td>USA</td>\n",
       "      <td>21/09/2020</td>\n",
       "      <td>129.0</td>\n",
       "      <td>https://open.spotify.com/track/5CcPj2miBzqHAxm...</td>\n",
       "      <td>Thinkin of You , Chan Se Park</td>\n",
       "      <td>Thinkin of You</td>\n",
       "      <td>Chan Se Park</td>\n",
       "    </tr>\n",
       "    <tr>\n",
       "      <th>289329</th>\n",
       "      <td>289329</td>\n",
       "      <td>USA</td>\n",
       "      <td>21/09/2020</td>\n",
       "      <td>130.0</td>\n",
       "      <td>https://open.spotify.com/track/1V8bPfh3pgdsHU5...</td>\n",
       "      <td>Blurred Lines , Oda Kirkwood</td>\n",
       "      <td>Blurred Lines</td>\n",
       "      <td>Oda Kirkwood</td>\n",
       "    </tr>\n",
       "    <tr>\n",
       "      <th>289340</th>\n",
       "      <td>289340</td>\n",
       "      <td>USA</td>\n",
       "      <td>21/09/2020</td>\n",
       "      <td>141.0</td>\n",
       "      <td>https://open.spotify.com/track/38HY8JklUp2o1hc...</td>\n",
       "      <td>Miser , WAVYVIBE</td>\n",
       "      <td>Miser</td>\n",
       "      <td>WAVYVIBE</td>\n",
       "    </tr>\n",
       "    <tr>\n",
       "      <th>289344</th>\n",
       "      <td>289344</td>\n",
       "      <td>USA</td>\n",
       "      <td>21/09/2020</td>\n",
       "      <td>145.0</td>\n",
       "      <td>https://open.spotify.com/track/7icOlPlKJ3JSuZU...</td>\n",
       "      <td>Love Is So Sweet , Missing Seoul</td>\n",
       "      <td>Love Is So Sweet</td>\n",
       "      <td>Missing Seoul</td>\n",
       "    </tr>\n",
       "    <tr>\n",
       "      <th>289435</th>\n",
       "      <td>289435</td>\n",
       "      <td>USA</td>\n",
       "      <td>20/09/2020</td>\n",
       "      <td>36.0</td>\n",
       "      <td>https://open.spotify.com/track/6F36SoTLd7pky1n...</td>\n",
       "      <td>Longing Heart , Mayar Jenisk</td>\n",
       "      <td>Longing Heart</td>\n",
       "      <td>Mayar Jenisk</td>\n",
       "    </tr>\n",
       "    <tr>\n",
       "      <th>289674</th>\n",
       "      <td>289674</td>\n",
       "      <td>USA</td>\n",
       "      <td>19/09/2020</td>\n",
       "      <td>75.0</td>\n",
       "      <td>https://open.spotify.com/track/7nz7N7kYxYAir3m...</td>\n",
       "      <td>Without You , Jennifer Ormond</td>\n",
       "      <td>Without You</td>\n",
       "      <td>Jennifer Ormond</td>\n",
       "    </tr>\n",
       "  </tbody>\n",
       "</table>\n",
       "</div>"
      ],
      "text/plain": [
       "        Unnamed: 0 country        date  position  \\\n",
       "281193      281193     USA  01/11/2020     194.0   \n",
       "281302      281302     USA  31/10/2020     103.0   \n",
       "285389      285389     USA  11/10/2020     190.0   \n",
       "288794      288794     USA  24/09/2020     195.0   \n",
       "289328      289328     USA  21/09/2020     129.0   \n",
       "289329      289329     USA  21/09/2020     130.0   \n",
       "289340      289340     USA  21/09/2020     141.0   \n",
       "289344      289344     USA  21/09/2020     145.0   \n",
       "289435      289435     USA  20/09/2020      36.0   \n",
       "289674      289674     USA  19/09/2020      75.0   \n",
       "\n",
       "                                                      uri  \\\n",
       "281193  https://open.spotify.com/track/1TfqLAPs4K3s2rJ...   \n",
       "281302  https://open.spotify.com/track/0kwuKfWntoGh0EW...   \n",
       "285389  https://open.spotify.com/track/31iqpzg1ZXLLgq0...   \n",
       "288794  https://open.spotify.com/track/5FmvaZGd6fulojS...   \n",
       "289328  https://open.spotify.com/track/5CcPj2miBzqHAxm...   \n",
       "289329  https://open.spotify.com/track/1V8bPfh3pgdsHU5...   \n",
       "289340  https://open.spotify.com/track/38HY8JklUp2o1hc...   \n",
       "289344  https://open.spotify.com/track/7icOlPlKJ3JSuZU...   \n",
       "289435  https://open.spotify.com/track/6F36SoTLd7pky1n...   \n",
       "289674  https://open.spotify.com/track/7nz7N7kYxYAir3m...   \n",
       "\n",
       "                                                    track  \\\n",
       "281193   Sweet Dreams  - Remastered , Eurythmics, Anni...   \n",
       "281302      Stranger Things , Kyle Dixon & Michael Stein    \n",
       "285389                            Throat Ba,  , BRS Kash    \n",
       "288794                               One Beer  , HIXTAPE    \n",
       "289328                     Thinkin of You , Chan Se Park    \n",
       "289329                      Blurred Lines , Oda Kirkwood    \n",
       "289340                                  Miser , WAVYVIBE    \n",
       "289344                  Love Is So Sweet , Missing Seoul    \n",
       "289435                      Longing Heart , Mayar Jenisk    \n",
       "289674                     Without You , Jennifer Ormond    \n",
       "\n",
       "                               title                                    artist  \n",
       "281193   Sweet Dreams  - Remastered    Eurythmics, Annie Lennox, Dave Stewart   \n",
       "281302              Stranger Things                Kyle Dixon & Michael Stein   \n",
       "285389                     Throat Ba                               , BRS Kash   \n",
       "288794                    One Beer                                    HIXTAPE   \n",
       "289328               Thinkin of You                              Chan Se Park   \n",
       "289329                Blurred Lines                              Oda Kirkwood   \n",
       "289340                        Miser                                  WAVYVIBE   \n",
       "289344             Love Is So Sweet                             Missing Seoul   \n",
       "289435                Longing Heart                              Mayar Jenisk   \n",
       "289674                  Without You                           Jennifer Ormond   "
      ]
     },
     "execution_count": 10,
     "metadata": {},
     "output_type": "execute_result"
    }
   ],
   "source": [
    "holder_df = full_df[full_df['country']=='USA']\n",
    "#remove nan and remove uri that are already in lyric_df\n",
    "holder_df = holder_df[~holder_df['uri'].isin(lyric_df['uri'])]\n",
    "#remove nan in holder_df\n",
    "holder_df = holder_df.dropna()\n",
    "#remove duplicate uri in holder_df\n",
    "holder_df = holder_df.drop_duplicates(subset='uri')\n",
    "print(len(holder_df['uri'].unique()))\n",
    "print(len(holder_df))\n",
    "holder_df.head(10)\n"
   ]
  },
  {
   "cell_type": "code",
   "execution_count": 53,
   "metadata": {},
   "outputs": [],
   "source": [
    "\n",
    "def storeLyrics(songName,artistName,uri,cursor):\n",
    "    artist = None\n",
    "    for artist_i in artistName.split('&'):\n",
    "        artist = genius.search_artist(artist_i, max_songs=0)\n",
    "        if artist != None:\n",
    "            break\n",
    "    if artist==None:\n",
    "        return None\n",
    "    song = None\n",
    "    for song_i in songName.split('-'):\n",
    "        song = genius.search_song(song_i, artist.name)\n",
    "        if song != None:\n",
    "            break\n",
    "    if song==None:\n",
    "        return None\n",
    "    lyrics = song.lyrics.replace('(','').replace(')','').replace('\\n', ' ').replace('\\r', '').replace('\\t', ' ').replace('  ', ' ').replace('\\'', '').replace('\\'', '\\\"')\n",
    "    lyrics = lyrics.split(songName+' Lyrics ')[1]\n",
    "    query = 'INSERT INTO lyrics(song,artist,lyric,uri) VALUES (\\\"'+str(songName).replace('\\\"','\\'')+'\\\",\\\"'+str(artistName.split(',')).replace('\\\"','\\'')+'\\\",\\\"'+lyrics.replace('\\\"','\\'')+'\\\",\\''+str(uri).replace('\\\"','\\'')+'\\')'\n",
    "    cursor.execute(query)\n",
    "    conn.commit()\n",
    "def test_store(songName,artistName):\n",
    "    artist = genius.search_artist(artistName, max_songs=0)\n",
    "    if artist==None:\n",
    "        return None\n",
    "    song = genius.search_song(songName, artist.name)\n",
    "    if song==None:\n",
    "        return None\n",
    "    lyrics = song.lyrics.replace('(','').replace(')','')"
   ]
  },
  {
   "cell_type": "code",
   "execution_count": 5,
   "metadata": {},
   "outputs": [
    {
     "data": {
      "text/plain": [
       "<sqlite3.Cursor at 0x1aabd6ee7a0>"
      ]
     },
     "execution_count": 5,
     "metadata": {},
     "output_type": "execute_result"
    }
   ],
   "source": [
    "cur = conn.cursor()\n",
    "try:\n",
    "    cur.execute(\"CREATE TABLE lyrics (song text NOT NULL, artist text NOT NULL, lyric text NOT NULL, uri text NOT NULL, sentiment Integer NOT NULL, polarity Integer NOT NULL, subjectivity Integer NOT NULL, vader Integer NOT NULL, vader_pos Integer NOT NULL, vader_neg Integer NOT NULL, vader_neut Integer NOT NULL);\")\n",
    "except:\n",
    "    print(\"Table already exists\")\n",
    "cur.execute(\"ALTER TABLE lyrics ADD COLUMN vader_neut Integer;\")"
   ]
  },
  {
   "cell_type": "code",
   "execution_count": 2,
   "metadata": {},
   "outputs": [
    {
     "data": {
      "text/plain": [
       "\"for index,row in holder_df[::-1].iterrows():\\n    retries = 0\\n    if (row['uri'] in taken):\\n        pass\\n    else:\\n        while retries<3:\\n            try:\\n                storeLyrics(row['title'],row['artist'],row['uri'],cur)\\n                taken.append(row['uri'])\\n                retries = 3\\n            except Timeout as e:\\n                retries += 1\\n                continue\\n\""
      ]
     },
     "execution_count": 2,
     "metadata": {},
     "output_type": "execute_result"
    }
   ],
   "source": [
    "taken = []\n",
    "for index,row in holder_df[::-1].iterrows():\n",
    "    retries = 0\n",
    "    if (row['uri'] in taken):\n",
    "        pass\n",
    "    else:\n",
    "        while retries<3:\n",
    "            try:\n",
    "                storeLyrics(row['title'],row['artist'],row['uri'],cur)\n",
    "                taken.append(row['uri'])\n",
    "                retries = 3\n",
    "            except Timeout as e:\n",
    "                retries += 1\n",
    "                continue\n",
    "\n",
    "conn.close()"
   ]
  },
  {
   "cell_type": "code",
   "execution_count": null,
   "metadata": {},
   "outputs": [],
   "source": [
    "conn.commit()\n",
    "conn.close()"
   ]
  }
 ],
 "metadata": {
  "interpreter": {
   "hash": "d6d5ebbc22686cbf87e792bf78f7dd83e8c50b321b9443f473afd7acb3f9cb7d"
  },
  "kernelspec": {
   "display_name": "Python 3.9.7 ('Capstone')",
   "language": "python",
   "name": "python3"
  },
  "language_info": {
   "codemirror_mode": {
    "name": "ipython",
    "version": 3
   },
   "file_extension": ".py",
   "mimetype": "text/x-python",
   "name": "python",
   "nbconvert_exporter": "python",
   "pygments_lexer": "ipython3",
   "version": "3.9.7"
  },
  "orig_nbformat": 4
 },
 "nbformat": 4,
 "nbformat_minor": 2
}
