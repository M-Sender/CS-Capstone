{
 "cells": [
  {
   "cell_type": "markdown",
   "metadata": {},
   "source": [
    "# Code for Pulling Lyrics from Genius"
   ]
  },
  {
   "cell_type": "code",
   "execution_count": 20,
   "metadata": {},
   "outputs": [],
   "source": [
    "from lyricsgenius import Genius\n",
    "import os\n",
    "from dotenv import load_dotenv\n",
    "load_dotenv()\n",
    "import pandas as pd\n",
    "import sqlite3\n",
    "conn = sqlite3.connect('lyrics.db')"
   ]
  },
  {
   "cell_type": "code",
   "execution_count": 14,
   "metadata": {},
   "outputs": [],
   "source": [
    "#Lyrcis\n",
    "genius = Genius(os.getenv('GENIUS_KEY'))\n",
    "\n",
    "#need to write function to generate for each and store in a datastructure to not duplicate searches."
   ]
  },
  {
   "cell_type": "code",
   "execution_count": 15,
   "metadata": {},
   "outputs": [],
   "source": [
    "final_df = pd.read_csv(\"../datasets/Final database.csv\")\n",
    "full_df = pd.read_csv(\"../datasets/Database to calculate popularity.csv\")\n"
   ]
  },
  {
   "cell_type": "code",
   "execution_count": 18,
   "metadata": {},
   "outputs": [
    {
     "data": {
      "text/html": [
       "<div>\n",
       "<style scoped>\n",
       "    .dataframe tbody tr th:only-of-type {\n",
       "        vertical-align: middle;\n",
       "    }\n",
       "\n",
       "    .dataframe tbody tr th {\n",
       "        vertical-align: top;\n",
       "    }\n",
       "\n",
       "    .dataframe thead th {\n",
       "        text-align: right;\n",
       "    }\n",
       "</style>\n",
       "<table border=\"1\" class=\"dataframe\">\n",
       "  <thead>\n",
       "    <tr style=\"text-align: right;\">\n",
       "      <th></th>\n",
       "      <th>Unnamed: 0</th>\n",
       "      <th>country</th>\n",
       "      <th>date</th>\n",
       "      <th>position</th>\n",
       "      <th>uri</th>\n",
       "      <th>track</th>\n",
       "      <th>title</th>\n",
       "      <th>artist</th>\n",
       "    </tr>\n",
       "  </thead>\n",
       "  <tbody>\n",
       "    <tr>\n",
       "      <th>280200</th>\n",
       "      <td>280200</td>\n",
       "      <td>USA</td>\n",
       "      <td>05/11/2020</td>\n",
       "      <td>1.0</td>\n",
       "      <td>https://open.spotify.com/track/35mvY5S1H3J2QZy...</td>\n",
       "      <td>positions , Ariana Grande</td>\n",
       "      <td>positions</td>\n",
       "      <td>Ariana Grande</td>\n",
       "    </tr>\n",
       "    <tr>\n",
       "      <th>280201</th>\n",
       "      <td>280201</td>\n",
       "      <td>USA</td>\n",
       "      <td>05/11/2020</td>\n",
       "      <td>2.0</td>\n",
       "      <td>https://open.spotify.com/track/7hxHWCCAIIxFLCz...</td>\n",
       "      <td>Lemonade  , Internet Money</td>\n",
       "      <td>Lemonade</td>\n",
       "      <td>Internet Money</td>\n",
       "    </tr>\n",
       "    <tr>\n",
       "      <th>280202</th>\n",
       "      <td>280202</td>\n",
       "      <td>USA</td>\n",
       "      <td>05/11/2020</td>\n",
       "      <td>3.0</td>\n",
       "      <td>https://open.spotify.com/track/6Im9k8u9iIzKMrm...</td>\n",
       "      <td>34+35 , Ariana Grande</td>\n",
       "      <td>34+35</td>\n",
       "      <td>Ariana Grande</td>\n",
       "    </tr>\n",
       "    <tr>\n",
       "      <th>280203</th>\n",
       "      <td>280203</td>\n",
       "      <td>USA</td>\n",
       "      <td>05/11/2020</td>\n",
       "      <td>4.0</td>\n",
       "      <td>https://open.spotify.com/track/47EiUVwUp4C9fGc...</td>\n",
       "      <td>Dakiti , Bad Bunny, Jhay Cortez</td>\n",
       "      <td>Dakiti</td>\n",
       "      <td>Bad Bunny, Jhay Cortez</td>\n",
       "    </tr>\n",
       "    <tr>\n",
       "      <th>280204</th>\n",
       "      <td>280204</td>\n",
       "      <td>USA</td>\n",
       "      <td>05/11/2020</td>\n",
       "      <td>5.0</td>\n",
       "      <td>https://open.spotify.com/track/3tjFYV6RSFtuktY...</td>\n",
       "      <td>Mood  , 24kGoldn</td>\n",
       "      <td>Mood</td>\n",
       "      <td>24kGoldn</td>\n",
       "    </tr>\n",
       "  </tbody>\n",
       "</table>\n",
       "</div>"
      ],
      "text/plain": [
       "        Unnamed: 0 country        date  position  \\\n",
       "280200      280200     USA  05/11/2020       1.0   \n",
       "280201      280201     USA  05/11/2020       2.0   \n",
       "280202      280202     USA  05/11/2020       3.0   \n",
       "280203      280203     USA  05/11/2020       4.0   \n",
       "280204      280204     USA  05/11/2020       5.0   \n",
       "\n",
       "                                                      uri  \\\n",
       "280200  https://open.spotify.com/track/35mvY5S1H3J2QZy...   \n",
       "280201  https://open.spotify.com/track/7hxHWCCAIIxFLCz...   \n",
       "280202  https://open.spotify.com/track/6Im9k8u9iIzKMrm...   \n",
       "280203  https://open.spotify.com/track/47EiUVwUp4C9fGc...   \n",
       "280204  https://open.spotify.com/track/3tjFYV6RSFtuktY...   \n",
       "\n",
       "                                    track        title  \\\n",
       "280200         positions , Ariana Grande    positions    \n",
       "280201        Lemonade  , Internet Money    Lemonade     \n",
       "280202             34+35 , Ariana Grande        34+35    \n",
       "280203   Dakiti , Bad Bunny, Jhay Cortez       Dakiti    \n",
       "280204                  Mood  , 24kGoldn        Mood     \n",
       "\n",
       "                          artist  \n",
       "280200            Ariana Grande   \n",
       "280201           Internet Money   \n",
       "280202            Ariana Grande   \n",
       "280203   Bad Bunny, Jhay Cortez   \n",
       "280204                 24kGoldn   "
      ]
     },
     "execution_count": 18,
     "metadata": {},
     "output_type": "execute_result"
    }
   ],
   "source": [
    "holder_df = full_df[full_df['country']=='USA']\n",
    "holder_df.head()"
   ]
  },
  {
   "cell_type": "code",
   "execution_count": 23,
   "metadata": {},
   "outputs": [],
   "source": [
    "def storeLyrics(songName,artistName): #sep and local\n",
    "    \n",
    "    artist = genius.search_artist(artistName, max_songs=1)\n",
    "    song = genius.search_song(songName, artist.name)\n",
    "    lyrics = song.lyrics\n",
    "    query = 'INSERT INTO lyrics VALUES ('+songName+','+artistName+','+lyrics+')'\n",
    "    conn.execute(query)\n",
    "    #return lyrics"
   ]
  },
  {
   "cell_type": "code",
   "execution_count": 24,
   "metadata": {},
   "outputs": [
    {
     "name": "stdout",
     "output_type": "stream",
     "text": [
      "Searching for songs by Bad Bunny, Jhay Cortez...\n",
      "\n",
      "Changing artist name to 'Bad Bunny & Jhay Cortez'\n",
      "Song 1: \"DÁKITI\"\n",
      "\n",
      "Reached user-specified song limit (1).\n",
      "Done. Found 1 songs.\n",
      "Searching for \"Dakiti\" by Bad Bunny & Jhay Cortez...\n",
      "Done.\n"
     ]
    },
    {
     "ename": "OperationalError",
     "evalue": "unrecognized token: \"{\"",
     "output_type": "error",
     "traceback": [
      "\u001b[1;31m---------------------------------------------------------------------------\u001b[0m",
      "\u001b[1;31mOperationalError\u001b[0m                          Traceback (most recent call last)",
      "\u001b[1;32mC:\\WINDOWS\\TEMP/ipykernel_12144/1454316286.py\u001b[0m in \u001b[0;36m<module>\u001b[1;34m\u001b[0m\n\u001b[1;32m----> 1\u001b[1;33m \u001b[0mstoreLyrics\u001b[0m\u001b[1;33m(\u001b[0m\u001b[1;34m\"Dakiti\"\u001b[0m\u001b[1;33m,\u001b[0m\u001b[1;34m\"Bad Bunny, Jhay Cortez\"\u001b[0m\u001b[1;33m)\u001b[0m\u001b[1;33m\u001b[0m\u001b[1;33m\u001b[0m\u001b[0m\n\u001b[0m\u001b[0;32m      2\u001b[0m \u001b[0mconn\u001b[0m\u001b[1;33m.\u001b[0m\u001b[0mclose\u001b[0m\u001b[1;33m(\u001b[0m\u001b[1;33m)\u001b[0m\u001b[1;33m\u001b[0m\u001b[1;33m\u001b[0m\u001b[0m\n",
      "\u001b[1;32mC:\\WINDOWS\\TEMP/ipykernel_12144/4026756761.py\u001b[0m in \u001b[0;36mstoreLyrics\u001b[1;34m(songName, artistName)\u001b[0m\n\u001b[0;32m      5\u001b[0m     \u001b[0mlyrics\u001b[0m \u001b[1;33m=\u001b[0m \u001b[0msong\u001b[0m\u001b[1;33m.\u001b[0m\u001b[0mlyrics\u001b[0m\u001b[1;33m\u001b[0m\u001b[1;33m\u001b[0m\u001b[0m\n\u001b[0;32m      6\u001b[0m     \u001b[0mquery\u001b[0m \u001b[1;33m=\u001b[0m \u001b[1;34m'INSERT INTO lyrics VALUES ({songName},{artistName},{lyrics})'\u001b[0m\u001b[1;33m\u001b[0m\u001b[1;33m\u001b[0m\u001b[0m\n\u001b[1;32m----> 7\u001b[1;33m     \u001b[0mconn\u001b[0m\u001b[1;33m.\u001b[0m\u001b[0mexecute\u001b[0m\u001b[1;33m(\u001b[0m\u001b[0mquery\u001b[0m\u001b[1;33m,\u001b[0m\u001b[1;33m{\u001b[0m\u001b[1;34m'songName'\u001b[0m\u001b[1;33m:\u001b[0m\u001b[0msongName\u001b[0m\u001b[1;33m,\u001b[0m\u001b[1;34m'artistName'\u001b[0m\u001b[1;33m:\u001b[0m\u001b[0martistName\u001b[0m\u001b[1;33m,\u001b[0m\u001b[1;34m'lyrics'\u001b[0m\u001b[1;33m:\u001b[0m\u001b[0mlyrics\u001b[0m\u001b[1;33m}\u001b[0m\u001b[1;33m)\u001b[0m\u001b[1;33m\u001b[0m\u001b[1;33m\u001b[0m\u001b[0m\n\u001b[0m\u001b[0;32m      8\u001b[0m     \u001b[1;31m#return lyrics\u001b[0m\u001b[1;33m\u001b[0m\u001b[1;33m\u001b[0m\u001b[0m\n",
      "\u001b[1;31mOperationalError\u001b[0m: unrecognized token: \"{\""
     ]
    }
   ],
   "source": [
    "storeLyrics(\"Dakiti\",\"Bad Bunny, Jhay Cortez\")\n",
    "conn.close()"
   ]
  },
  {
   "cell_type": "code",
   "execution_count": null,
   "metadata": {},
   "outputs": [],
   "source": []
  }
 ],
 "metadata": {
  "interpreter": {
   "hash": "d6d5ebbc22686cbf87e792bf78f7dd83e8c50b321b9443f473afd7acb3f9cb7d"
  },
  "kernelspec": {
   "display_name": "Python 3.9.7 ('Capstone')",
   "language": "python",
   "name": "python3"
  },
  "language_info": {
   "codemirror_mode": {
    "name": "ipython",
    "version": 3
   },
   "file_extension": ".py",
   "mimetype": "text/x-python",
   "name": "python",
   "nbconvert_exporter": "python",
   "pygments_lexer": "ipython3",
   "version": "3.9.7"
  },
  "orig_nbformat": 4
 },
 "nbformat": 4,
 "nbformat_minor": 2
}
