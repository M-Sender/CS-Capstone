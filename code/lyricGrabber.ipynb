{
 "cells": [
  {
   "cell_type": "markdown",
   "metadata": {},
   "source": [
    "# Code for Pulling Lyrics from Genius"
   ]
  },
  {
   "cell_type": "code",
   "execution_count": 2,
   "metadata": {},
   "outputs": [],
   "source": [
    "from lyricsgenius import Genius\n",
    "import os\n",
    "from dotenv import load_dotenv\n",
    "load_dotenv()\n",
    "import pandas as pd"
   ]
  },
  {
   "cell_type": "code",
   "execution_count": 7,
   "metadata": {},
   "outputs": [],
   "source": [
    "#Lyrcis\n",
    "genius = Genius(os.getenv('GENIUS_KEY'))\n",
    "\n",
    "#need to write function to generate for each and store in a datastructure to not duplicate searches."
   ]
  },
  {
   "cell_type": "code",
   "execution_count": 4,
   "metadata": {},
   "outputs": [
    {
     "name": "stderr",
     "output_type": "stream",
     "text": [
      "C:\\Users\\MSend\\anaconda3\\envs\\Capstone\\lib\\site-packages\\IPython\\core\\interactiveshell.py:3441: DtypeWarning: Columns (7,8,11,12,13,14,15,16,17,18,19,20,21,22,23,24,25) have mixed types.Specify dtype option on import or set low_memory=False.\n",
      "  exec(code_obj, self.user_global_ns, self.user_ns)\n"
     ]
    },
    {
     "data": {
      "text/html": [
       "<div>\n",
       "<style scoped>\n",
       "    .dataframe tbody tr th:only-of-type {\n",
       "        vertical-align: middle;\n",
       "    }\n",
       "\n",
       "    .dataframe tbody tr th {\n",
       "        vertical-align: top;\n",
       "    }\n",
       "\n",
       "    .dataframe thead th {\n",
       "        text-align: right;\n",
       "    }\n",
       "</style>\n",
       "<table border=\"1\" class=\"dataframe\">\n",
       "  <thead>\n",
       "    <tr style=\"text-align: right;\">\n",
       "      <th></th>\n",
       "      <th>Unnamed: 0</th>\n",
       "      <th>country</th>\n",
       "      <th>date</th>\n",
       "      <th>position</th>\n",
       "      <th>uri</th>\n",
       "      <th>track</th>\n",
       "      <th>title</th>\n",
       "      <th>artist</th>\n",
       "    </tr>\n",
       "  </thead>\n",
       "  <tbody>\n",
       "    <tr>\n",
       "      <th>0</th>\n",
       "      <td>0</td>\n",
       "      <td>Global</td>\n",
       "      <td>05/11/2020</td>\n",
       "      <td>1.0</td>\n",
       "      <td>https://open.spotify.com/track/47EiUVwUp4C9fGc...</td>\n",
       "      <td>Dakiti , Bad Bunny, Jhay Cortez</td>\n",
       "      <td>Dakiti</td>\n",
       "      <td>Bad Bunny, Jhay Cortez</td>\n",
       "    </tr>\n",
       "    <tr>\n",
       "      <th>1</th>\n",
       "      <td>1</td>\n",
       "      <td>Global</td>\n",
       "      <td>05/11/2020</td>\n",
       "      <td>2.0</td>\n",
       "      <td>https://open.spotify.com/track/35mvY5S1H3J2QZy...</td>\n",
       "      <td>positions , Ariana Grande</td>\n",
       "      <td>positions</td>\n",
       "      <td>Ariana Grande</td>\n",
       "    </tr>\n",
       "    <tr>\n",
       "      <th>2</th>\n",
       "      <td>2</td>\n",
       "      <td>Global</td>\n",
       "      <td>05/11/2020</td>\n",
       "      <td>3.0</td>\n",
       "      <td>https://open.spotify.com/track/3tjFYV6RSFtuktY...</td>\n",
       "      <td>Mood  , 24kGoldn</td>\n",
       "      <td>Mood</td>\n",
       "      <td>24kGoldn</td>\n",
       "    </tr>\n",
       "    <tr>\n",
       "      <th>3</th>\n",
       "      <td>3</td>\n",
       "      <td>Global</td>\n",
       "      <td>05/11/2020</td>\n",
       "      <td>4.0</td>\n",
       "      <td>https://open.spotify.com/track/7hxHWCCAIIxFLCz...</td>\n",
       "      <td>Lemonade  , Internet Money</td>\n",
       "      <td>Lemonade</td>\n",
       "      <td>Internet Money</td>\n",
       "    </tr>\n",
       "    <tr>\n",
       "      <th>4</th>\n",
       "      <td>4</td>\n",
       "      <td>Global</td>\n",
       "      <td>05/11/2020</td>\n",
       "      <td>5.0</td>\n",
       "      <td>https://open.spotify.com/track/4y4spB9m0Q6026K...</td>\n",
       "      <td>Lonely  , Justin Bieber</td>\n",
       "      <td>Lonely</td>\n",
       "      <td>Justin Bieber</td>\n",
       "    </tr>\n",
       "  </tbody>\n",
       "</table>\n",
       "</div>"
      ],
      "text/plain": [
       "   Unnamed: 0 country        date  position  \\\n",
       "0           0  Global  05/11/2020       1.0   \n",
       "1           1  Global  05/11/2020       2.0   \n",
       "2           2  Global  05/11/2020       3.0   \n",
       "3           3  Global  05/11/2020       4.0   \n",
       "4           4  Global  05/11/2020       5.0   \n",
       "\n",
       "                                                 uri  \\\n",
       "0  https://open.spotify.com/track/47EiUVwUp4C9fGc...   \n",
       "1  https://open.spotify.com/track/35mvY5S1H3J2QZy...   \n",
       "2  https://open.spotify.com/track/3tjFYV6RSFtuktY...   \n",
       "3  https://open.spotify.com/track/7hxHWCCAIIxFLCz...   \n",
       "4  https://open.spotify.com/track/4y4spB9m0Q6026K...   \n",
       "\n",
       "                               track        title                    artist  \n",
       "0   Dakiti , Bad Bunny, Jhay Cortez       Dakiti    Bad Bunny, Jhay Cortez   \n",
       "1         positions , Ariana Grande    positions             Ariana Grande   \n",
       "2                  Mood  , 24kGoldn        Mood                   24kGoldn   \n",
       "3        Lemonade  , Internet Money    Lemonade             Internet Money   \n",
       "4           Lonely  , Justin Bieber      Lonely              Justin Bieber   "
      ]
     },
     "execution_count": 4,
     "metadata": {},
     "output_type": "execute_result"
    }
   ],
   "source": [
    "final_df = pd.read_csv(\"../datasets/Final database.csv\")\n",
    "full_df = pd.read_csv(\"../datasets/Database to calculate popularity.csv\")\n",
    "full_df.head()"
   ]
  },
  {
   "cell_type": "code",
   "execution_count": 5,
   "metadata": {},
   "outputs": [],
   "source": [
    "def storeLyrics(songName,artistName): #sep and local\n",
    "    artist = genius.search_artist(artistName, max_songs=1)\n",
    "    song = genius.search_song(songName, artist.name)\n",
    "    lyrics = song.lyrics\n",
    "    return lyrics"
   ]
  },
  {
   "cell_type": "code",
   "execution_count": 6,
   "metadata": {},
   "outputs": [],
   "source": [
    "#"
   ]
  }
 ],
 "metadata": {
  "interpreter": {
   "hash": "d6d5ebbc22686cbf87e792bf78f7dd83e8c50b321b9443f473afd7acb3f9cb7d"
  },
  "kernelspec": {
   "display_name": "Python 3.9.7 ('Capstone')",
   "language": "python",
   "name": "python3"
  },
  "language_info": {
   "codemirror_mode": {
    "name": "ipython",
    "version": 3
   },
   "file_extension": ".py",
   "mimetype": "text/x-python",
   "name": "python",
   "nbconvert_exporter": "python",
   "pygments_lexer": "ipython3",
   "version": "3.9.7"
  },
  "orig_nbformat": 4
 },
 "nbformat": 4,
 "nbformat_minor": 2
}
