{
 "cells": [
  {
   "cell_type": "markdown",
   "metadata": {},
   "source": [
    "# Sentiment Analysis"
   ]
  },
  {
   "cell_type": "code",
   "execution_count": 1,
   "metadata": {},
   "outputs": [
    {
     "name": "stderr",
     "output_type": "stream",
     "text": [
      "[nltk_data] Downloading package vader_lexicon to\n",
      "[nltk_data]     C:\\Users\\MSend\\AppData\\Roaming\\nltk_data...\n",
      "[nltk_data]   Package vader_lexicon is already up-to-date!\n"
     ]
    }
   ],
   "source": [
    "\n",
    "import pandas as pd\n",
    "import numpy as np\n",
    "import sqlite3\n",
    "import itertools\n",
    "import spacy\n",
    "from spacytextblob.spacytextblob import SpacyTextBlob\n",
    "import nltk\n",
    "\n",
    "from nltk.sentiment.vader import SentimentIntensityAnalyzer\n",
    "nltk.download('vader_lexicon')\n",
    "analyzer = SentimentIntensityAnalyzer()\n"
   ]
  },
  {
   "cell_type": "code",
   "execution_count": 6,
   "metadata": {},
   "outputs": [
    {
     "data": {
      "text/plain": [
       "7166"
      ]
     },
     "execution_count": 6,
     "metadata": {},
     "output_type": "execute_result"
    }
   ],
   "source": [
    "conn = sqlite3.connect('../datasets/lyrics.db')\n",
    "from spacytextblob.spacytextblob import SpacyTextBlob\n",
    "nlp = spacy.load('en_core_web_sm')\n",
    "nlp.add_pipe('spacytextblob')\n",
    "sql_df = pd.read_sql_query(\"SELECT * FROM lyrics\", conn)\n",
    "#sql_df = sql_df[sql_df.vader_neg.isnull()]\n",
    "# see if '\\n' is in the lyrics\n",
    "#sql_df = sql_df[sql_df.lyric.str.contains('\\n')]\n",
    "len(sql_df)"
   ]
  },
  {
   "cell_type": "code",
   "execution_count": 10,
   "metadata": {},
   "outputs": [
    {
     "name": "stdout",
     "output_type": "stream",
     "text": [
      "4+35 Lyrics Hmm You might think Im crazy The way Ive been cravin If I put it quite plainly Just gimme them babies So what you doin tonight? Better say, Doin you right Yeah Watchin movies, but we aint seen a thing tonight Yeah I dont wanna keep you up You up But show me, can you keep it up? It up Cause then Ill have to keep you up Shit, maybe Ima keep you up, boy Ive been drinkin coffee Ive been drinkin coffee; coffee And Ive been eatin healthy Ive been eatin healthy; healthy You know I keep it squeaky, yeah You know I keep it squeaky Savin up my energy Yeah, yeah, savin up my energy Can you stay up all night? Fuck me til the daylight Thirty-four, thirty-five Yeah, yeah, yeah, yeah Can you stay up all night? All night Fuck mе til the daylight Thirty-four, thirty-five Yeah, yеah, yeah, yeah You drink it just like water Water You say it tastes like candy So what you doin tonight? Tonight Better say, Doin you right Alright Watchin movies, but we aint seen a thing tonight Yeah I dont wanna keep you up You up But show me, can you keep it up? It up Cause then Ill have to keep you up Shit, maybe Ima keep you up, boy Ive been drinkin coffee Said Ive been drinkin coffee; coffee And Ive been eatin healthy And Ive been eatin healthy; healthy You know I keep it squeaky, yeah Except this wine, babe Savin up my energy Yeah, yeah, yeah Can you stay up all night? All night Fuck me til the daylight Daylight Thirty-four, thirty-five Thirty-five; yeah, yeah, yeah, yeah Can you stay up all night? Can you stay? Fuck me til the daylight Can you stay? Thirty-four, thirty-five Yeah, yeah, yeah, yeah Oh yeah, yeah Baby, you might need a seatbelt when I ride it Ima leave it open like a door, come inside it Even though Im wifey, you can hit it like a side chick Dont need no side dick, no Got the neighbors yellin Earthquake! Earthquake 4.5 when I make the bed shake Put it down heavy even though its lightweight Its lightweight, yeah, yeah, yeah, babe Yeah, we started at midnight Go til the sunrise Sunrise Done at the same time Yeah But whos counting the time when we got it for life? Got it for life I know all your favorite spots Favorite spots We can take it from the top From the top You such a dream come true, true Make a bitch wanna hit snooze, ooh Can you stay up all night? Fuck me til the daylight Yeah, yeah Thirty-four, thirty-five Yeah, yeah, yeah, yeah Thirty-four, thirty-five Can you stay up all night? Do you know what that means? Fuck me til the daylight Do you know what that means? Thirty-four, thirty-five Yeah, yeah, yeah, yeah Yeah, yeah, yeah Means I wanna 69 with you No shit Math class Never was good161Embed\n"
     ]
    }
   ],
   "source": [
    "#if we want to remove the song name and lyric from beginning, does not work for all, scared to use and mess up lyric data\n",
    "for row in sql_df[2:3].iterrows():\n",
    "    uri = row[1]['uri']\n",
    "    song = row[1]['song'][1:-1]\n",
    "    lyr = row[1]['lyric'].split(song+'Lyrics')[-1][1:]\n",
    "    print(lyr)\n",
    "    #query = \"UPDATE lyrics SET polarity = {polar}, subjectivity = {subject}, vader = \\'{vader}\\', sentiment = \\'{sentiment}\\' WHERE uri = \\'{uri}\\'\".format(polar = polarity, subject = subjecitvy, uri = uri, vader = vader, sentiment = sentiment)\n",
    "    #conn.execute(query)\n",
    "    #conn.commit()"
   ]
  },
  {
   "cell_type": "code",
   "execution_count": 78,
   "metadata": {},
   "outputs": [],
   "source": [
    "for row in sql_df.iterrows():\n",
    "    uri = row[1]['uri']\n",
    "    doc = nlp(row[1]['lyric'])\n",
    "    polarity = doc._.blob.polarity     \n",
    "    subjecitvy = doc._.blob.subjectivity \n",
    "    vader_info = analyzer.polarity_scores(row[1]['lyric'])\n",
    "    vader = vader_info['compound']\n",
    "    negativity = vader_info['neg']\n",
    "    positivity = vader_info['pos']\n",
    "    neutrality = vader_info['neu']\n",
    "    sentiment = 1 if vader >= 0.5 else -1 if vader <=0.5 else 0\n",
    "    #get sentiment as 1 or -1 either with polarity or subjectivity or both\n",
    "\n",
    "    query = \"UPDATE lyrics SET polarity = {polar}, subjectivity = {subject}, vader = \\'{vader}\\', sentiment = \\'{sentiment}\\' , vader_neg = \\'{neg}\\', vader_pos = \\'{pos}\\', vader_neut =\\'{neut}\\' WHERE uri = \\'{uri}\\'\".format(polar = polarity,\n",
    "                subject = subjecitvy, uri = uri, vader = vader, \n",
    "                sentiment = sentiment,pos = positivity,neg = negativity, neut = neutrality)\n",
    "    conn.execute(query)\n",
    "    conn.commit()"
   ]
  },
  {
   "cell_type": "code",
   "execution_count": null,
   "metadata": {},
   "outputs": [],
   "source": []
  }
 ],
 "metadata": {
  "interpreter": {
   "hash": "d6d5ebbc22686cbf87e792bf78f7dd83e8c50b321b9443f473afd7acb3f9cb7d"
  },
  "kernelspec": {
   "display_name": "Python 3.9.7 ('Capstone')",
   "language": "python",
   "name": "python3"
  },
  "language_info": {
   "codemirror_mode": {
    "name": "ipython",
    "version": 3
   },
   "file_extension": ".py",
   "mimetype": "text/x-python",
   "name": "python",
   "nbconvert_exporter": "python",
   "pygments_lexer": "ipython3",
   "version": "3.9.7"
  },
  "orig_nbformat": 4
 },
 "nbformat": 4,
 "nbformat_minor": 2
}
