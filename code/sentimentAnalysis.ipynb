{
 "cells": [
  {
   "cell_type": "markdown",
   "metadata": {},
   "source": [
    "# Sentiment Analysis"
   ]
  },
  {
   "cell_type": "code",
   "execution_count": 73,
   "metadata": {},
   "outputs": [
    {
     "name": "stderr",
     "output_type": "stream",
     "text": [
      "[nltk_data] Downloading package vader_lexicon to\n",
      "[nltk_data]     C:\\Users\\MSend\\AppData\\Roaming\\nltk_data...\n",
      "[nltk_data]   Package vader_lexicon is already up-to-date!\n"
     ]
    }
   ],
   "source": [
    "\n",
    "import pandas as pd\n",
    "import numpy as np\n",
    "import sqlite3\n",
    "import itertools\n",
    "import spacy\n",
    "from spacytextblob.spacytextblob import SpacyTextBlob\n",
    "import nltk\n",
    "\n",
    "from nltk.sentiment.vader import SentimentIntensityAnalyzer\n",
    "nltk.download('vader_lexicon')\n",
    "analyzer = SentimentIntensityAnalyzer()\n"
   ]
  },
  {
   "cell_type": "code",
   "execution_count": 74,
   "metadata": {},
   "outputs": [
    {
     "data": {
      "text/plain": [
       "7166"
      ]
     },
     "execution_count": 74,
     "metadata": {},
     "output_type": "execute_result"
    }
   ],
   "source": [
    "conn = sqlite3.connect('../datasets/lyrics.db')\n",
    "from spacytextblob.spacytextblob import SpacyTextBlob\n",
    "nlp = spacy.load('en_core_web_sm')\n",
    "nlp.add_pipe('spacytextblob')\n",
    "sql_df = pd.read_sql_query(\"SELECT * FROM lyrics\", conn)\n",
    "sql_df = sql_df[sql_df.vader_neg.isnull()]\n",
    "# see if '\\n' is in the lyrics\n",
    "#sql_df = sql_df[sql_df.lyric.str.contains('\\n')]\n",
    "len(sql_df)"
   ]
  },
  {
   "cell_type": "code",
   "execution_count": 69,
   "metadata": {},
   "outputs": [
    {
     "name": "stdout",
     "output_type": "stream",
     "text": [
      "positions Lyrics Heaven sent you to me Im just hopin’ I dont repeat history Boy, Im tryna meet your mama on a Sunday Then make a lotta love on a Monday Ah, ah Never need no No, no one else, babe ’Cause Ill be Switchin them positions for you Cookin in the kitchen and Im in the bedroom Im in the Olympics, way Im jumpin through hoops Know my love infinite, nothin’ I wouldn’t do That I wont do, switchin’ for you Perfect, perfect Youre too good to be true Youre too good to be true But I get tired of runnin, fuck it Now, I’m runnin with you With you Said, boy, Im tryna meet your mama on a Sunday Then make a lotta love on a Monday Ah, ah Never need no No, no onе else, babe Causе Ill be Switchin them positions for you Cookin in the kitchen and Im in the bedroom Im in the Olympics, way Im jumpin through hoops Know my love infinite, nothin I wouldnt do That I wont do, switchin for you Cookin in the kitchen and Im in the bedroom Im in the Olympics, way Im jumpin through hoops Know my love infinite, nothin I wouldnt do Nothin That I wont do, switchin for you This some shit that I usually dont do Yeah But for you, I kinda, kinda want to Mmm Cause youre down for me and Im down too And Im down too Yeah, Im down too Switchin the positions for you This some shit that I Yeah usually dont do Dont do But for you, I kinda, kinda want to Mmm Cause youre down for me and Im down too Cause youre down for me Switchin them positions for you Cookin in the kitchen and Im in the bedroom Im in the Olympics, way Im jumpin through hoops Jumpin, jumpin Know my love infinite, nothin I wouldnt do That I wont do, switchin for you Ooh woah Cookin in the kitchen and Im in the bedroom Im in the Olympics, way Im jumpin through hoops Know my love infinite, nothin I wouldnt do I wouldnt do That I wont do, switchin for you Yeah Ah, yeah Ah Ah, yeah220Embed\n"
     ]
    }
   ],
   "source": [
    "#if we want to remove the song name and lyric from beginning, does not work for all, scared to use and mess up lyric data\n",
    "for row in sql_df[0:1].iterrows():\n",
    "    uri = row[1]['uri']\n",
    "    song = row[1]['song'][1:-1]\n",
    "    lyr = row[1]['lyric'].split(song+'Lyrics')[-1][1:]\n",
    "    #query = \"UPDATE lyrics SET polarity = {polar}, subjectivity = {subject}, vader = \\'{vader}\\', sentiment = \\'{sentiment}\\' WHERE uri = \\'{uri}\\'\".format(polar = polarity, subject = subjecitvy, uri = uri, vader = vader, sentiment = sentiment)\n",
    "    #conn.execute(query)\n",
    "    #conn.commit()"
   ]
  },
  {
   "cell_type": "code",
   "execution_count": 78,
   "metadata": {},
   "outputs": [],
   "source": [
    "for row in sql_df.iterrows():\n",
    "    uri = row[1]['uri']\n",
    "    doc = nlp(row[1]['lyric'])\n",
    "    polarity = doc._.blob.polarity     \n",
    "    subjecitvy = doc._.blob.subjectivity \n",
    "    vader_info = analyzer.polarity_scores(row[1]['lyric'])\n",
    "    vader = vader_info['compound']\n",
    "    negativity = vader_info['neg']\n",
    "    positivity = vader_info['pos']\n",
    "    neutrality = vader_info['neu']\n",
    "    sentiment = 1 if vader >= 0.5 else -1 if vader <=0.5 else 0\n",
    "    #get sentiment as 1 or -1 either with polarity or subjectivity or both\n",
    "\n",
    "    query = \"UPDATE lyrics SET polarity = {polar}, subjectivity = {subject}, vader = \\'{vader}\\', sentiment = \\'{sentiment}\\' , vader_neg = \\'{neg}\\', vader_pos = \\'{pos}\\', vader_neut =\\'{neut}\\' WHERE uri = \\'{uri}\\'\".format(polar = polarity,\n",
    "                subject = subjecitvy, uri = uri, vader = vader, \n",
    "                sentiment = sentiment,pos = positivity,neg = negativity, neut = neutrality)\n",
    "    conn.execute(query)\n",
    "    conn.commit()"
   ]
  },
  {
   "cell_type": "code",
   "execution_count": null,
   "metadata": {},
   "outputs": [],
   "source": []
  }
 ],
 "metadata": {
  "interpreter": {
   "hash": "d6d5ebbc22686cbf87e792bf78f7dd83e8c50b321b9443f473afd7acb3f9cb7d"
  },
  "kernelspec": {
   "display_name": "Python 3.9.7 ('Capstone')",
   "language": "python",
   "name": "python3"
  },
  "language_info": {
   "codemirror_mode": {
    "name": "ipython",
    "version": 3
   },
   "file_extension": ".py",
   "mimetype": "text/x-python",
   "name": "python",
   "nbconvert_exporter": "python",
   "pygments_lexer": "ipython3",
   "version": "3.9.7"
  },
  "orig_nbformat": 4
 },
 "nbformat": 4,
 "nbformat_minor": 2
}
